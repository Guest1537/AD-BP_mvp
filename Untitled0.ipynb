{
  "nbformat": 4,
  "nbformat_minor": 0,
  "metadata": {
    "colab": {
      "provenance": [],
      "authorship_tag": "ABX9TyN/lGMYSi2KLWxmPPnTxvY3",
      "include_colab_link": true
    },
    "kernelspec": {
      "name": "python3",
      "display_name": "Python 3"
    },
    "language_info": {
      "name": "python"
    }
  },
  "cells": [
    {
      "cell_type": "markdown",
      "metadata": {
        "id": "view-in-github",
        "colab_type": "text"
      },
      "source": [
        "<a href=\"https://colab.research.google.com/github/Guest1537/AD-BP_mvp/blob/main/Untitled0.ipynb\" target=\"_parent\"><img src=\"https://colab.research.google.com/assets/colab-badge.svg\" alt=\"Open In Colab\"/></a>"
      ]
    },
    {
      "cell_type": "markdown",
      "source": [
        "# MVP - Análise de Dados e Boas Práticas\n",
        "\n",
        "##### Pedro Caleffi Barbosa\n",
        "\n",
        "## 1. Definição do problema\n",
        "\n",
        "**Informações sobre os atributos**\n"
      ],
      "metadata": {
        "id": "13hP9dwLnOdb"
      }
    },
    {
      "cell_type": "code",
      "source": [
        "código"
      ],
      "metadata": {
        "id": "I2VgvZWPnKZ9"
      },
      "execution_count": null,
      "outputs": []
    },
    {
      "cell_type": "markdown",
      "source": [
        "\n",
        "## 2. Carga de dados\n",
        "\n",
        " Carrega arquivo csv usando Pandas usando uma URL\n",
        " Informa a URL de importação do datares\n",
        ""
      ],
      "metadata": {
        "id": "Fk_l1eQ0nNMk"
      }
    },
    {
      "cell_type": "code",
      "source": [
        "dataset.head()"
      ],
      "metadata": {
        "id": "37BAQXkWnYJK"
      },
      "execution_count": null,
      "outputs": []
    },
    {
      "cell_type": "markdown",
      "source": [
        "## 3. Análise de dados\n",
        "\n",
        "### 3.1. Estatístícas descritivas"
      ],
      "metadata": {
        "id": "ZI6nwegsnZMi"
      }
    },
    {
      "cell_type": "code",
      "source": [
        "print(dataset.shape)"
      ],
      "metadata": {
        "id": "OM6_b4Oenb4E"
      },
      "execution_count": null,
      "outputs": []
    },
    {
      "cell_type": "code",
      "source": [
        "print(dataset.info)"
      ],
      "metadata": {
        "id": "GnPMgYiFngdq"
      },
      "execution_count": null,
      "outputs": []
    },
    {
      "cell_type": "code",
      "source": [
        "dataset.head(10)"
      ],
      "metadata": {
        "id": "IpbwEEMwnh3q"
      },
      "execution_count": null,
      "outputs": []
    },
    {
      "cell_type": "code",
      "source": [
        "dataset.tail(10)"
      ],
      "metadata": {
        "id": "g3RbyKzzniEK"
      },
      "execution_count": null,
      "outputs": []
    },
    {
      "cell_type": "code",
      "source": [
        "dataset.dtypes"
      ],
      "metadata": {
        "id": "LNXi6ij-niXL"
      },
      "execution_count": null,
      "outputs": []
    },
    {
      "cell_type": "code",
      "source": [
        "print(dataset.grouphy('class').size())"
      ],
      "metadata": {
        "id": "T-2tQiqsnikU"
      },
      "execution_count": null,
      "outputs": []
    },
    {
      "cell_type": "markdown",
      "source": [
        "### 3.2. Visualizações unimodais"
      ],
      "metadata": {
        "id": "ka4Iw6FjnrrJ"
      }
    },
    {
      "cell_type": "code",
      "source": [
        "dataset.hist(figsize = (15,10))\n",
        "plt.show()"
      ],
      "metadata": {
        "id": "MKA-BDuynt7R"
      },
      "execution_count": null,
      "outputs": []
    },
    {
      "cell_type": "markdown",
      "source": [
        "Explicação dos gráficos"
      ],
      "metadata": {
        "id": "Tf6GLIvBnvvB"
      }
    },
    {
      "cell_type": "code",
      "source": [
        "dataset.plot(kind = 'box', subplots = True, layout (3,3), sharex = False, sharey = False, figsuze = (15,10))\n",
        "plt.show()"
      ],
      "metadata": {
        "id": "aU3OunMinx8z"
      },
      "execution_count": null,
      "outputs": []
    },
    {
      "cell_type": "markdown",
      "source": [
        "Explicação dos gráficos"
      ],
      "metadata": {
        "id": "bl0f5A2onz_i"
      }
    },
    {
      "cell_type": "markdown",
      "source": [
        "### 3.3. Visualizações Multimodais"
      ],
      "metadata": {
        "id": "5JdJuyG3n1LJ"
      }
    },
    {
      "cell_type": "code",
      "source": [
        "sns.heatmap(dataset.corr(), annot=True, cmap='RdBu')"
      ],
      "metadata": {
        "id": "h37080yKn3NC"
      },
      "execution_count": null,
      "outputs": []
    },
    {
      "cell_type": "code",
      "source": [
        "sns.pairplot(dataset)"
      ],
      "metadata": {
        "id": "S1DYK3Ohn4Yy"
      },
      "execution_count": null,
      "outputs": []
    },
    {
      "cell_type": "code",
      "source": [
        "sns.pairplot(dataset, hue = \"class\", height = 2.5)"
      ],
      "metadata": {
        "id": "Mspr-w7In6ik"
      },
      "execution_count": null,
      "outputs": []
    },
    {
      "cell_type": "markdown",
      "source": [
        "## 4. Pré-processamento de dados\n",
        "\n",
        "### 4.1. Tratamento de *missings* e limpeza"
      ],
      "metadata": {
        "id": "GauggnTdn7XN"
      }
    },
    {
      "cell_type": "markdown",
      "source": [],
      "metadata": {
        "id": "r-t5gPkin7ry"
      }
    },
    {
      "cell_type": "code",
      "source": [
        "dataset.isnull().sum()"
      ],
      "metadata": {
        "id": "gungtAgcoAV6"
      },
      "execution_count": null,
      "outputs": []
    },
    {
      "cell_type": "code",
      "source": [
        "col = list(dataset.columns)\n",
        "atributos = dataset[col[0:-1]]\n",
        "atributos.replace(0, np.nan, inplace=True)\n",
        "ms.matrix(atributos)"
      ],
      "metadata": {
        "id": "bormLoeEoAsS"
      },
      "execution_count": null,
      "outputs": []
    },
    {
      "cell_type": "code",
      "source": [
        "atributos.drop(['',''], axis=1, inplace=True)\n",
        "ms.matrix(atributos)"
      ],
      "metadata": {
        "id": "kvawAamsoBEh"
      },
      "execution_count": null,
      "outputs": []
    },
    {
      "cell_type": "code",
      "source": [
        "# Explicação código\n",
        "\n",
        "atributos[''].fillna(0, inplace=True)\n",
        "\n",
        "# Explicação código\n",
        "\n",
        "atributos[''].fillna(atributos[''].median(), inplace=True)\n",
        "atributos[''].fillna(atributos[''].median(), inplace=True)\n",
        "atributos[''].fillna(atributos[''].median(), inplace=True)\n",
        "\n",
        "# Explicação código\n",
        "\n",
        "ms.matrix(atributos)"
      ],
      "metadata": {
        "id": "fXSbV3DaoL1a"
      },
      "execution_count": null,
      "outputs": []
    },
    {
      "cell_type": "code",
      "source": [
        "datasetSemMissings = atributos\n",
        "datasetSemMissings['class'] = dataset['class']\n",
        "datasetSemMissings.head()"
      ],
      "metadata": {
        "id": "7TF5ZvMboTPJ"
      },
      "execution_count": null,
      "outputs": []
    },
    {
      "cell_type": "markdown",
      "source": [
        "### 4.2. Separação em conjunto de treino e conjunto teste"
      ],
      "metadata": {
        "id": "rI0-AQD9oUk8"
      }
    },
    {
      "cell_type": "code",
      "source": [
        "test_size = 0.20\n",
        "seed = 7\n",
        "array = dataset.values\n",
        "X = array[:,0:8]\n",
        "Y = array[:,8]\n",
        "X_train, X_test, Y_train, Y_test = train_test_split (X, Y,\n",
        "  test_size=test_size, suffle=True, random_state=seed, stratify=Y)"
      ],
      "metadata": {
        "id": "Hez5UyWEoX0E"
      },
      "execution_count": null,
      "outputs": []
    },
    {
      "cell_type": "code",
      "source": [
        "array = datasetSemMissings.values\n",
        "X_sm = array[:,0:6]\n",
        "Y_sm = array[:,6]\n",
        "X_train_sm, X_test_sm, Y_train_sm, Y_test_sm = train_test_split (X_sm, Y_sm,\n",
        "  test_size=test_size, shuffle=True, random_state=seed, stratify=Y_sm)"
      ],
      "metadata": {
        "id": "MbQfFpvFoXci"
      },
      "execution_count": null,
      "outputs": []
    },
    {
      "cell_type": "markdown",
      "source": [
        "## Conclusão"
      ],
      "metadata": {
        "id": "-AIPkIuNoYeZ"
      }
    }
  ]
}